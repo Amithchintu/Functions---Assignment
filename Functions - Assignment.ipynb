{
 "cells": [
  {
   "cell_type": "markdown",
   "id": "d2844bce-71df-4053-a9db-f9555d05406e",
   "metadata": {},
   "source": [
    "# 1. Write a Python function that takes a list of numbers as input and returns the sum of all even numbers in the list.\n",
    "# Python function that takes a list of numbers as input and returns the sum of all even numbers in the list:"
   ]
  },
  {
   "cell_type": "code",
   "execution_count": 1,
   "id": "559d711b-8e08-43ca-ac51-8c13bd45d82a",
   "metadata": {},
   "outputs": [
    {
     "name": "stdout",
     "output_type": "stream",
     "text": [
      "12\n"
     ]
    }
   ],
   "source": [
    "def sum_of_even_numbers(numbers):\n",
    "    sum_even = 0\n",
    "    for num in numbers:\n",
    "        if num % 2 == 0:\n",
    "            sum_even += num\n",
    "    return sum_even\n",
    "\n",
    "# Example usage:\n",
    "numbers = [1, 2, 3, 4, 5, 6]\n",
    "print(sum_of_even_numbers(numbers))"
   ]
  },
  {
   "cell_type": "markdown",
   "id": "25a4c78e-6b07-44e1-8088-7e34bd801c15",
   "metadata": {},
   "source": [
    "# This function iterates through each number in the list, checks if it’s even (i.e., divisible by 2), and adds it to the sum if it is. The final sum of all even numbers is then returned."
   ]
  },
  {
   "cell_type": "markdown",
   "id": "0978dbce-55b3-4438-8cf1-967576878d0a",
   "metadata": {},
   "source": [
    "# 2. Create a Python function that accepts a string and returns the reverse of that string.\n",
    "# Python function that takes a string as input and returns its reverse:"
   ]
  },
  {
   "cell_type": "code",
   "execution_count": 2,
   "id": "5fabcf8c-3851-4ac1-89c5-14a837b055eb",
   "metadata": {},
   "outputs": [
    {
     "name": "stdout",
     "output_type": "stream",
     "text": [
      "!dlroW ,olleH\n"
     ]
    }
   ],
   "source": [
    "def reverse_string(s):\n",
    "    return s[::-1]\n",
    "\n",
    "# Example usage:\n",
    "input_string = \"Hello, World!\"\n",
    "print(reverse_string(input_string))"
   ]
  },
  {
   "cell_type": "markdown",
   "id": "2153e317-26c1-4c7d-a969-37e57687f342",
   "metadata": {},
   "source": [
    "# This function uses Python’s slicing feature with [::-1] to reverse the string. It’s a concise and efficient way to achieve this."
   ]
  },
  {
   "cell_type": "markdown",
   "id": "65c6c7bd-17b2-4f08-914c-e6f7ece6adaf",
   "metadata": {},
   "source": [
    "# 3. Implement a Python function that takes a list of integers and returns a new list containing the squares of each number.\n",
    "#  Python function that takes a list of integers and returns a new list containing the squares of each number:"
   ]
  },
  {
   "cell_type": "code",
   "execution_count": 3,
   "id": "e80c9711-3dc5-40ba-90af-12483b70a3ff",
   "metadata": {},
   "outputs": [
    {
     "name": "stdout",
     "output_type": "stream",
     "text": [
      "[1, 4, 9, 16, 25]\n"
     ]
    }
   ],
   "source": [
    "def square_numbers(numbers):\n",
    "    return [num ** 2 for num in numbers]\n",
    "\n",
    "# Example usage:\n",
    "numbers = [1, 2, 3, 4, 5]\n",
    "print(square_numbers(numbers))"
   ]
  },
  {
   "cell_type": "markdown",
   "id": "364acceb-b730-4b39-b8ef-c18f31f94bfc",
   "metadata": {},
   "source": [
    "# This function uses list comprehension to create a new list where each element is the square of the corresponding element in the input list. It’s a concise and efficient way to achieve this."
   ]
  },
  {
   "cell_type": "markdown",
   "id": "c876f855-305b-40a0-8718-a0c9f27461fa",
   "metadata": {},
   "source": [
    "# 4. Write a Python function that checks if a given number is prime or not from 1 to 200.\n",
    "# Python function that checks if a given number is prime or not, specifically for numbers from 1 to 200:"
   ]
  },
  {
   "cell_type": "code",
   "execution_count": 4,
   "id": "ef4d83b3-a7da-436d-bb57-ef466f5516ae",
   "metadata": {},
   "outputs": [
    {
     "name": "stdout",
     "output_type": "stream",
     "text": [
      "1 is not a prime number\n",
      "2 is a prime number\n",
      "3 is a prime number\n",
      "4 is not a prime number\n",
      "5 is a prime number\n",
      "6 is not a prime number\n",
      "7 is a prime number\n",
      "8 is not a prime number\n",
      "9 is not a prime number\n",
      "10 is not a prime number\n",
      "11 is a prime number\n",
      "12 is not a prime number\n",
      "13 is a prime number\n",
      "14 is not a prime number\n",
      "15 is not a prime number\n",
      "16 is not a prime number\n",
      "17 is a prime number\n",
      "18 is not a prime number\n",
      "19 is a prime number\n",
      "20 is not a prime number\n",
      "21 is not a prime number\n",
      "22 is not a prime number\n",
      "23 is a prime number\n",
      "24 is not a prime number\n",
      "25 is not a prime number\n",
      "26 is not a prime number\n",
      "27 is not a prime number\n",
      "28 is not a prime number\n",
      "29 is a prime number\n",
      "30 is not a prime number\n",
      "31 is a prime number\n",
      "32 is not a prime number\n",
      "33 is not a prime number\n",
      "34 is not a prime number\n",
      "35 is not a prime number\n",
      "36 is not a prime number\n",
      "37 is a prime number\n",
      "38 is not a prime number\n",
      "39 is not a prime number\n",
      "40 is not a prime number\n",
      "41 is a prime number\n",
      "42 is not a prime number\n",
      "43 is a prime number\n",
      "44 is not a prime number\n",
      "45 is not a prime number\n",
      "46 is not a prime number\n",
      "47 is a prime number\n",
      "48 is not a prime number\n",
      "49 is not a prime number\n",
      "50 is not a prime number\n",
      "51 is not a prime number\n",
      "52 is not a prime number\n",
      "53 is a prime number\n",
      "54 is not a prime number\n",
      "55 is not a prime number\n",
      "56 is not a prime number\n",
      "57 is not a prime number\n",
      "58 is not a prime number\n",
      "59 is a prime number\n",
      "60 is not a prime number\n",
      "61 is a prime number\n",
      "62 is not a prime number\n",
      "63 is not a prime number\n",
      "64 is not a prime number\n",
      "65 is not a prime number\n",
      "66 is not a prime number\n",
      "67 is a prime number\n",
      "68 is not a prime number\n",
      "69 is not a prime number\n",
      "70 is not a prime number\n",
      "71 is a prime number\n",
      "72 is not a prime number\n",
      "73 is a prime number\n",
      "74 is not a prime number\n",
      "75 is not a prime number\n",
      "76 is not a prime number\n",
      "77 is not a prime number\n",
      "78 is not a prime number\n",
      "79 is a prime number\n",
      "80 is not a prime number\n",
      "81 is not a prime number\n",
      "82 is not a prime number\n",
      "83 is a prime number\n",
      "84 is not a prime number\n",
      "85 is not a prime number\n",
      "86 is not a prime number\n",
      "87 is not a prime number\n",
      "88 is not a prime number\n",
      "89 is a prime number\n",
      "90 is not a prime number\n",
      "91 is not a prime number\n",
      "92 is not a prime number\n",
      "93 is not a prime number\n",
      "94 is not a prime number\n",
      "95 is not a prime number\n",
      "96 is not a prime number\n",
      "97 is a prime number\n",
      "98 is not a prime number\n",
      "99 is not a prime number\n",
      "100 is not a prime number\n",
      "101 is a prime number\n",
      "102 is not a prime number\n",
      "103 is a prime number\n",
      "104 is not a prime number\n",
      "105 is not a prime number\n",
      "106 is not a prime number\n",
      "107 is a prime number\n",
      "108 is not a prime number\n",
      "109 is a prime number\n",
      "110 is not a prime number\n",
      "111 is not a prime number\n",
      "112 is not a prime number\n",
      "113 is a prime number\n",
      "114 is not a prime number\n",
      "115 is not a prime number\n",
      "116 is not a prime number\n",
      "117 is not a prime number\n",
      "118 is not a prime number\n",
      "119 is not a prime number\n",
      "120 is not a prime number\n",
      "121 is not a prime number\n",
      "122 is not a prime number\n",
      "123 is not a prime number\n",
      "124 is not a prime number\n",
      "125 is not a prime number\n",
      "126 is not a prime number\n",
      "127 is a prime number\n",
      "128 is not a prime number\n",
      "129 is not a prime number\n",
      "130 is not a prime number\n",
      "131 is a prime number\n",
      "132 is not a prime number\n",
      "133 is not a prime number\n",
      "134 is not a prime number\n",
      "135 is not a prime number\n",
      "136 is not a prime number\n",
      "137 is a prime number\n",
      "138 is not a prime number\n",
      "139 is a prime number\n",
      "140 is not a prime number\n",
      "141 is not a prime number\n",
      "142 is not a prime number\n",
      "143 is not a prime number\n",
      "144 is not a prime number\n",
      "145 is not a prime number\n",
      "146 is not a prime number\n",
      "147 is not a prime number\n",
      "148 is not a prime number\n",
      "149 is a prime number\n",
      "150 is not a prime number\n",
      "151 is a prime number\n",
      "152 is not a prime number\n",
      "153 is not a prime number\n",
      "154 is not a prime number\n",
      "155 is not a prime number\n",
      "156 is not a prime number\n",
      "157 is a prime number\n",
      "158 is not a prime number\n",
      "159 is not a prime number\n",
      "160 is not a prime number\n",
      "161 is not a prime number\n",
      "162 is not a prime number\n",
      "163 is a prime number\n",
      "164 is not a prime number\n",
      "165 is not a prime number\n",
      "166 is not a prime number\n",
      "167 is a prime number\n",
      "168 is not a prime number\n",
      "169 is not a prime number\n",
      "170 is not a prime number\n",
      "171 is not a prime number\n",
      "172 is not a prime number\n",
      "173 is a prime number\n",
      "174 is not a prime number\n",
      "175 is not a prime number\n",
      "176 is not a prime number\n",
      "177 is not a prime number\n",
      "178 is not a prime number\n",
      "179 is a prime number\n",
      "180 is not a prime number\n",
      "181 is a prime number\n",
      "182 is not a prime number\n",
      "183 is not a prime number\n",
      "184 is not a prime number\n",
      "185 is not a prime number\n",
      "186 is not a prime number\n",
      "187 is not a prime number\n",
      "188 is not a prime number\n",
      "189 is not a prime number\n",
      "190 is not a prime number\n",
      "191 is a prime number\n",
      "192 is not a prime number\n",
      "193 is a prime number\n",
      "194 is not a prime number\n",
      "195 is not a prime number\n",
      "196 is not a prime number\n",
      "197 is a prime number\n",
      "198 is not a prime number\n",
      "199 is a prime number\n",
      "200 is not a prime number\n"
     ]
    }
   ],
   "source": [
    "def is_prime(num):\n",
    "    if num <= 1:\n",
    "        return False\n",
    "    for i in range(2, int(num ** 0.5) + 1):\n",
    "        if num % i == 0:\n",
    "            return False\n",
    "    return True\n",
    "\n",
    "# Example usage:\n",
    "for number in range(1, 201):\n",
    "    if is_prime(number):\n",
    "        print(f\"{number} is a prime number\")\n",
    "    else:\n",
    "        print(f\"{number} is not a prime number\")"
   ]
  },
  {
   "cell_type": "markdown",
   "id": "9ffbdaa2-8d3b-4d7c-bd4b-d49f9136f7b7",
   "metadata": {},
   "source": [
    "# This function works by first checking if the number is less than or equal to 1, in which case it is not prime. Then, it checks for factors up to the square root of the number. If any factor is found, the number is not prime; otherwise, it is prime."
   ]
  },
  {
   "cell_type": "markdown",
   "id": "bee15c76-38db-46b1-b3db-c96272b175d3",
   "metadata": {},
   "source": [
    "# 5. Create an iterator class in Python that generates the Fibonacci sequence up to a specified number of terms.\n",
    "# Python iterator class that generates the Fibonacci sequence up to a specified number of terms:"
   ]
  },
  {
   "cell_type": "code",
   "execution_count": 5,
   "id": "985cf82a-52f5-4993-bdff-1afd0ebbfdd2",
   "metadata": {},
   "outputs": [
    {
     "name": "stdout",
     "output_type": "stream",
     "text": [
      "0\n",
      "1\n",
      "1\n",
      "2\n",
      "3\n",
      "5\n",
      "8\n",
      "13\n",
      "21\n",
      "34\n"
     ]
    }
   ],
   "source": [
    "class FibonacciIterator:\n",
    "    def __init__(self, num_terms):\n",
    "        self.num_terms = num_terms\n",
    "        self.current_term = 0\n",
    "        self.a, self.b = 0, 1\n",
    "\n",
    "    def __iter__(self):\n",
    "        return self\n",
    "\n",
    "    def __next__(self):\n",
    "        if self.current_term >= self.num_terms:\n",
    "            raise StopIteration\n",
    "        if self.current_term == 0:\n",
    "            self.current_term += 1\n",
    "            return self.a\n",
    "        elif self.current_term == 1:\n",
    "            self.current_term += 1\n",
    "            return self.b\n",
    "        else:\n",
    "            self.current_term += 1\n",
    "            self.a, self.b = self.b, self.a + self.b\n",
    "            return self.b\n",
    "\n",
    "# Example usage:\n",
    "fib_iterator = FibonacciIterator(10)\n",
    "for num in fib_iterator:\n",
    "    print(num)"
   ]
  },
  {
   "cell_type": "markdown",
   "id": "0d0d99bf-e739-4ad3-b439-dceb8895c21b",
   "metadata": {},
   "source": [
    "# This class defines an iterator for the Fibonacci sequence. The __iter__ method returns the iterator object itself, and the __next__ method generates the next Fibonacci number until the specified number of terms is reached."
   ]
  },
  {
   "cell_type": "markdown",
   "id": "2f95e384-1cfc-4e01-9541-eb5c604dcf20",
   "metadata": {},
   "source": [
    "# 6. Write a generator function in Python that yields the powers of 2 up to a given exponent."
   ]
  },
  {
   "cell_type": "code",
   "execution_count": 6,
   "id": "75b96401-1d30-4acc-a399-8d697f047105",
   "metadata": {},
   "outputs": [
    {
     "name": "stdout",
     "output_type": "stream",
     "text": [
      "1\n",
      "2\n",
      "4\n",
      "8\n",
      "16\n",
      "32\n"
     ]
    }
   ],
   "source": [
    "def powers_of_two(exponent):\n",
    "    for i in range(exponent + 1):\n",
    "        yield 2 ** i\n",
    "\n",
    "# Example usage:\n",
    "for power in powers_of_two(5):\n",
    "    print(power)"
   ]
  },
  {
   "cell_type": "markdown",
   "id": "e13c5f88-5d5a-45b2-9d8b-d50d3b93456b",
   "metadata": {},
   "source": [
    "# This function uses a for loop to iterate from 0 to the given exponent, yielding the powers of 2 at each step. The yield keyword makes it a generator, allowing you to iterate over the results one at a time."
   ]
  },
  {
   "cell_type": "markdown",
   "id": "40177ff3-0a01-403f-b2c3-bcc53b351a2d",
   "metadata": {},
   "source": [
    "# 7. Implement a generator function that reads a file line by line and yields each line as a string.\n",
    "#  Python generator function that reads a file line by line and yields each line as a string:"
   ]
  },
  {
   "cell_type": "code",
   "execution_count": null,
   "id": "05c2e4fb-0ac9-43f6-94c4-9a1833b1e74c",
   "metadata": {},
   "outputs": [],
   "source": [
    "def read_file_line_by_line(file_path):\n",
    "    with open(file_path, 'r') as file:\n",
    "        for line in file:\n",
    "            yield line.strip()\n",
    "\n",
    "# Example usage:\n",
    "file_path = 'example.txt'\n",
    "for line in read_file_line_by_line(file_path):\n",
    "    print(line)"
   ]
  },
  {
   "cell_type": "markdown",
   "id": "96128026-7c55-4f3c-a9ef-874209e3a629",
   "metadata": {},
   "source": [
    "# This function opens the file specified by file_path in read mode, iterates over each line in the file, and yields each line after stripping any leading or trailing whitespace. This approach is memory-efficient, especially for large files, as it processes one line at a time."
   ]
  },
  {
   "cell_type": "markdown",
   "id": "f3887043-7ec4-4e5a-b916-032b92fb3697",
   "metadata": {},
   "source": [
    "# 8. Use a lambda function in Python to sort a list of tuples based on the second element of each tuple.\n",
    "#  lambda function in Python to sort a list of tuples based on the second element of each tuple:"
   ]
  },
  {
   "cell_type": "code",
   "execution_count": 9,
   "id": "31c56985-d37b-4aca-8fc9-911430b9fa51",
   "metadata": {},
   "outputs": [
    {
     "name": "stdout",
     "output_type": "stream",
     "text": [
      "[(3, 20), (2, 30), (1, 50)]\n"
     ]
    }
   ],
   "source": [
    "# Sample list of tuples\n",
    "list_of_tuples = [(1, 50), (3, 20), (2, 30)]\n",
    "\n",
    "# Sorting the list of tuples by the second element\n",
    "sorted_list = sorted(list_of_tuples, key=lambda x: x[1])\n",
    "\n",
    "# Output the sorted list\n",
    "print(sorted_list)"
   ]
  },
  {
   "cell_type": "markdown",
   "id": "a071a8b9-2adb-4a41-867a-f2c6e360a416",
   "metadata": {},
   "source": [
    "# In this example, the sorted() function is used with a lambda function as the key. The lambda function lambda x: x[1] extracts the second element of each tuple for comparison during sorting."
   ]
  },
  {
   "cell_type": "markdown",
   "id": "dc5086ca-9f38-478e-9c26-037d61e7cc3a",
   "metadata": {},
   "source": [
    "# 9. Write a Python program that uses `map()` to convert a list of temperatures from Celsius to Fahrenheit.\n",
    "#  Python program that uses the map() function to convert a list of temperatures from Celsius to Fahrenheit:"
   ]
  },
  {
   "cell_type": "code",
   "execution_count": 10,
   "id": "64db8d01-f3a5-4a42-9d19-e606fa886171",
   "metadata": {},
   "outputs": [
    {
     "name": "stdout",
     "output_type": "stream",
     "text": [
      "[32.0, 68.0, 98.6, 212.0]\n"
     ]
    }
   ],
   "source": [
    "def celsius_to_fahrenheit(celsius):\n",
    "    return (celsius * 9/5) + 32\n",
    "\n",
    "# Sample list of temperatures in Celsius\n",
    "celsius_temperatures = [0, 20, 37, 100]\n",
    "\n",
    "# Using map() to convert each temperature to Fahrenheit\n",
    "fahrenheit_temperatures = list(map(celsius_to_fahrenheit, celsius_temperatures))\n",
    "\n",
    "# Output the converted temperatures\n",
    "print(fahrenheit_temperatures)"
   ]
  },
  {
   "cell_type": "markdown",
   "id": "11608d05-e935-4d38-bf11-ccf47d430228",
   "metadata": {},
   "source": [
    "# In this example, the celsius_to_fahrenheit function converts a single temperature from Celsius to Fahrenheit. The map() function applies this conversion to each element in the celsius_temperatures list, and the result is converted back to a list."
   ]
  },
  {
   "cell_type": "markdown",
   "id": "25525687-802a-47d6-8955-5bf3fa936f57",
   "metadata": {},
   "source": [
    "# 10. Create a Python program that uses `filter()` to remove all the vowels from a given string.\n",
    "# Python program that uses the filter() function to remove all the vowels from a given string:"
   ]
  },
  {
   "cell_type": "code",
   "execution_count": 11,
   "id": "178b251a-bd4b-4d1e-ad59-6c0a06e707c0",
   "metadata": {},
   "outputs": [
    {
     "name": "stdout",
     "output_type": "stream",
     "text": [
      "Hll, Wrld!\n"
     ]
    }
   ],
   "source": [
    "def remove_vowels(input_string):\n",
    "    vowels = 'aeiouAEIOU'\n",
    "    return ''.join(filter(lambda char: char not in vowels, input_string))\n",
    "\n",
    "# Example usage:\n",
    "input_string = \"Hello, World!\"\n",
    "result = remove_vowels(input_string)\n",
    "print(result)"
   ]
  },
  {
   "cell_type": "markdown",
   "id": "46fdd202-bd43-484f-b64f-c1620d02c4fc",
   "metadata": {},
   "source": [
    "# In this program, the filter() function is used with a lambda function to exclude all vowels from the input string. The join() method then combines the remaining characters into a new string."
   ]
  },
  {
   "cell_type": "markdown",
   "id": "7e11c28b-fcb9-4a41-8d6f-66366ecca598",
   "metadata": {},
   "source": [
    "# 11) Imagine an accounting routine used in a book shop. It works on a list with sublists, which look like this:\n",
    "# Write a Python program, which returns a list with 2-tuples. Each tuple consists of the order number and the product of the price per item and the quantity. The product should be increased by 10,- € if the value of the order is smaller than 100,00 €.\n",
    "# Write a Python program using lambda and map.\n",
    "# Python program that uses lambda and map to process a list of orders. Each order is represented as a tuple containing the order number, book title and author, quantity, and price per item. The program returns a list of 2-tuples, where each tuple consists of the order number and the total cost of the order. If the total cost is less than 100 euros, it adds 10 euros to the total:"
   ]
  },
  {
   "cell_type": "code",
   "execution_count": 12,
   "id": "3ac6f052-b0f1-4c2f-aea1-e646ef2fcd69",
   "metadata": {},
   "outputs": [
    {
     "name": "stdout",
     "output_type": "stream",
     "text": [
      "[(34587, 163.8), (98762, 284.0), (77226, 108.85000000000001), (88112, 34.989999999999995)]\n"
     ]
    }
   ],
   "source": [
    "orders = [\n",
    "    (34587, 'Learning Python', 'Mark Lutz', 4, 40.95),\n",
    "    (98762, 'Programming Python', 'Mark Lutz', 5, 56.80),\n",
    "    (77226, 'Head First Python', 'Paul Barry', 3, 32.95),\n",
    "    (88112, 'Einführung in Python3', 'Bernd Klein', 1, 24.99)\n",
    "]\n",
    "\n",
    "# Using lambda and map to calculate the total cost of each order\n",
    "invoice_totals = list(map(lambda x: (x[0], x[3] * x[4] + 10 if x[3] * x[4] < 100 else x[3] * x[4]), orders))\n",
    "\n",
    "print(invoice_totals)"
   ]
  },
  {
   "cell_type": "markdown",
   "id": "8d4a460e-60a6-4d02-87c2-32d786d27c18",
   "metadata": {},
   "source": [
    "# In this program:\n",
    "\n",
    "# The map() function applies a lambda function to each order in the orders list.\n",
    "# The lambda function calculates the total cost by multiplying the quantity (x[3]) by the price per item (x[4]).\n",
    "# If the total cost is less than 100 euros, it adds 10 euros to the total.\n",
    "# The result is a list of tuples, each containing the order number and the adjusted total cost."
   ]
  }
 ],
 "metadata": {
  "kernelspec": {
   "display_name": "Python 3 (ipykernel)",
   "language": "python",
   "name": "python3"
  },
  "language_info": {
   "codemirror_mode": {
    "name": "ipython",
    "version": 3
   },
   "file_extension": ".py",
   "mimetype": "text/x-python",
   "name": "python",
   "nbconvert_exporter": "python",
   "pygments_lexer": "ipython3",
   "version": "3.10.8"
  }
 },
 "nbformat": 4,
 "nbformat_minor": 5
}
